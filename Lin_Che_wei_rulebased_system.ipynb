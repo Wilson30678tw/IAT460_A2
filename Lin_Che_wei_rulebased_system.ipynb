{
  "nbformat": 4,
  "nbformat_minor": 0,
  "metadata": {
    "colab": {
      "provenance": [],
      "authorship_tag": "ABX9TyNtl3hAMsJCSKcz+2OR4Cgu",
      "include_colab_link": true
    },
    "kernelspec": {
      "name": "python3",
      "display_name": "Python 3"
    },
    "language_info": {
      "name": "python"
    }
  },
  "cells": [
    {
      "cell_type": "markdown",
      "metadata": {
        "id": "view-in-github",
        "colab_type": "text"
      },
      "source": [
        "<a href=\"https://colab.research.google.com/github/Wilson30678tw/IAT460_A2/blob/main/Lin_Che_wei_rulebased_system.ipynb\" target=\"_parent\"><img src=\"https://colab.research.google.com/assets/colab-badge.svg\" alt=\"Open In Colab\"/></a>"
      ]
    },
    {
      "cell_type": "code",
      "execution_count": 134,
      "metadata": {
        "id": "q9Z9D9fCf0ih"
      },
      "outputs": [],
      "source": [
        "# First, let's import our required libraries\n",
        "from collections import defaultdict\n",
        "import random"
      ]
    },
    {
      "cell_type": "code",
      "source": [
        "# 定義故事語法\n",
        "story_grammar = {\n",
        "'STORY': [[\n",
        "    \"Long ago, {CHARACTER} roamed {PLACE}, searching for purpose. {ACTION} and stumbled upon {PROBLEM}, unknowingly setting forth an irreversible fate.\",\n",
        "    \"As they ventured deeper, {ENEMY} emerged from the shadows, driven by {MOTIVATION}. Despite the peril, {CHARACTER} pressed forward, determined to fulfill their destiny.\",\n",
        "    \"The air crackled with magic as steel clashed against dark sorcery. The battle raged on, and the land trembled under their struggle. Just as defeat seemed imminent, a beacon of hope emerged—{ALLY} arrived and revealed a hidden truth.\",\n",
        "    \"Summoning their last reserves of strength, {CHARACTER} and {ALLY} combined forces. With a final, desperate attempt, {ABILITY} was unleashed, striking at the heart of darkness.\",\n",
        "    \"As dawn broke over {PLACE}, silence fell upon the battlefield. {CHARACTER}, forever changed, gazed upon the world they had saved. Though victories are fleeting, legends endure. The darkness was defeated, and history would remember this moment as the dawn of a new era.\"\n",
        "]],\n",
        "\n",
        "\n",
        "    # Characters & Places\n",
        "    'CHARACTER': ['a wandering knight', 'The Lost Wizard', 'an elf archer', 'a group of thief'],\n",
        "    'PLACE': ['in the ancient ruins', 'within the cursed forest', 'beyond the forgotten kingdom', 'under the dragon’s lair'],\n",
        "\n",
        "    # Actions & Problems\n",
        "    'ACTION': ['discovered', 'was searching for', 'was ambushed in', 'encountered'],\n",
        "    'PROBLEM': ['a sealed portal', 'a forbidden spellbook', 'a hidden artifact', 'A prophecy of doom and gloom'],\n",
        "\n",
        "    # Enemy & Motivation\n",
        "    'ENEMY': ['a dark sorcerer', 'a wicked warlord', 'a cursed dragon', 'an ancient demon'],\n",
        "    'MOTIVATION': ['seeks to conquer the kingdom', 'plans to steal the artifact', 'desires to break an ancient curse', 'aims to overthrow the gods'],\n",
        "\n",
        "    # Ally, Ability & Outcome\n",
        "    'ALLY': ['a wise old mage', 'a cunning rogue', 'a celestial spirit', 'a talking owl'],\n",
        "    'ABILITY': ['used a powerful spell', 'unleashed elemental magic', 'discovered a hidden passage', 'activated an ancient relic'],\n",
        "}\n",
        "\n",
        "# CFG 生成函數\n",
        "def generate_text(symbol, grammar):\n",
        "    if isinstance(symbol, str) and symbol in grammar:\n",
        "        production = random.choice(grammar[symbol])\n",
        "        if isinstance(production, list):\n",
        "            return ' '.join(generate_text(sym, grammar) for sym in production)\n",
        "        return production\n",
        "    return symbol\n",
        "\n",
        "\n"
      ],
      "metadata": {
        "id": "s7kmi2bugGOI"
      },
      "execution_count": 144,
      "outputs": []
    },
    {
      "cell_type": "markdown",
      "source": [
        "Markov Model in here"
      ],
      "metadata": {
        "id": "VJyC5a51gPSd"
      }
    },
    {
      "cell_type": "code",
      "source": [
        "def build_markov_chain(text, order=3):\n",
        "    chain = defaultdict(list)\n",
        "    words = text.split()\n",
        "\n",
        "    for i in range(len(words) - order):\n",
        "        state = tuple(words[i:i+order])\n",
        "        next_word = words[i+order]\n",
        "        chain[state].append(next_word)\n",
        "\n",
        "    return chain\n",
        "\n",
        "def generate_markov_text(chain, num_words=3):\n",
        "    if not chain:\n",
        "        return \"\"\n",
        "    words = list(random.choice(list(chain.keys())))\n",
        "    order = len(list(chain.keys())[0])\n",
        "\n",
        "    for _ in range(num_words - order):\n",
        "        state = tuple(words[-order:])\n",
        "        if state in chain and chain[state]:\n",
        "            next_word = random.choice(chain[state])\n",
        "            words.append(next_word)\n",
        "        else:\n",
        "            break\n",
        "\n",
        "    return ' '.join(words)\n",
        "\n"
      ],
      "metadata": {
        "id": "KZOHMOtTgPAq"
      },
      "execution_count": 137,
      "outputs": []
    },
    {
      "cell_type": "code",
      "source": [
        "sample_text = \"\"\"\n",
        "Long ago, Sir Alden roamed the Forgotten Kingdom, searching for purpose. One day, he uncovered an ancient tomb and stumbled upon a slumbering curse, unknowingly setting forth an irreversible fate.\n",
        "As he ventured deeper, the Wraith King emerged from the shadows, driven by his hunger for a lost soul. Despite the peril, Alden pressed forward, determined to fulfill his destiny.\n",
        "The air crackled with magic as steel clashed against dark sorcery. The battle raged on, and the land trembled under their struggle. Just as defeat seemed imminent, a beacon of hope emerged—the ghost of Queen Lysara arrived and revealed a hidden truth.\n",
        "Summoning their last reserves of strength, Alden and Lysara combined forces. With a final, desperate attempt, the Blade of Revenants was unleashed, striking at the heart of darkness.\n",
        "As dawn broke over the Forgotten Kingdom, silence fell upon the battlefield. Alden, forever changed, gazed upon the world he had saved. Though victories are fleeting, legends endure. The darkness was defeated, and the kingdom, once cursed, began to bloom once more.\n",
        "\"\"\"\n",
        "\"\"\"Long ago, Vaelin the Starborn roamed the Astral Wastes, searching for purpose. One day, he followed the whispers of a dying star and stumbled upon a collapsing rift in space, unknowingly setting forth an irreversible fate.\n",
        "As he ventured deeper, the Celestial Devourer emerged from the shadows, driven by its eternal hunger to consume the fabric of reality. Despite the peril, Vaelin pressed forward, determined to fulfill his destiny.\n",
        "The air crackled with magic as steel clashed against dark sorcery. The battle raged on, and the land trembled under their struggle. Just as defeat seemed imminent, a beacon of hope emerged—the lost deity, Seraphis, arrived and revealed a hidden truth.\n",
        "Summoning their last reserves of strength, Vaelin and Seraphis combined forces. With a final, desperate attempt, the Sigil of Eternity was unleashed, striking at the heart of darkness.\n",
        "As dawn broke over the Astral Wastes, silence fell upon the battlefield. Vaelin, forever changed, gazed upon the world he had saved. Though victories are fleeting, legends endure. The darkness was defeated, and the rift sealed, ensuring the universe would live another age.\n",
        "\n",
        "\"\"\"\n",
        "\"\"\"\n",
        "Long ago, Elysia Ravenshadow roamed the Enchanted Wilds, searching for purpose. One day, she tracked a mythical beast and stumbled upon a gateway to the Fae Realm, unknowingly setting forth an irreversible fate.\n",
        "As she ventured deeper, the Faebane Warlord emerged from the shadows, driven by his vengeance against mortals who defiled his sacred lands. Despite the peril, Elysia pressed forward, determined to fulfill her destiny.\n",
        "The air crackled with magic as steel clashed against dark sorcery. The battle raged on, and the land trembled under their struggle. Just as defeat seemed imminent, a beacon of hope emerged—her long-lost mentor, the Silver Druid, arrived and revealed a hidden truth.\n",
        "Summoning their last reserves of strength, Elysia and the Silver Druid combined forces. With a final, desperate attempt, the Wildsong Arrow was unleashed, striking at the heart of darkness.\n",
        "As dawn broke over the Enchanted Wilds, silence fell upon the battlefield. Elysia, forever changed, gazed upon the world she had saved. Though victories are fleeting, legends endure. The darkness was defeated, and the balance between the mortal and fae realms was restored.\n",
        "\"\"\"\n",
        "\"\"\"\n",
        "Long ago, Caleb the Timekeeper roamed the Ruins of Everhold, searching for purpose. One day, he activated a forgotten hourglass and stumbled upon a fractured timeline, unknowingly setting forth an irreversible fate.\n",
        "As he ventured deeper, the Chrono Warden emerged from the shadows, driven by his duty to prevent anyone from altering fate. Despite the peril, Caleb pressed forward, determined to fulfill his destiny.\n",
        "The air crackled with magic as steel clashed against dark sorcery. The battle raged on, and the land trembled under their struggle. Just as defeat seemed imminent, a beacon of hope emerged—a future version of himself, arrived and revealed a hidden truth.\n",
        "Summoning their last reserves of strength, Caleb and his future self combined forces. With a final, desperate attempt, the Hourglass Requiem was unleashed, striking at the heart of darkness.\n",
        "As dawn broke over the Ruins of Everhold, silence fell upon the battlefield. Caleb, forever changed, gazed upon the world he had saved. Though victories are fleeting, legends endure. The darkness was defeated, and time itself began to heal.\n",
        "\"\"\"\n",
        "\"\"\"\n",
        "Long ago, Malrik the Bonecaster roamed the Ashen Catacombs, searching for purpose. One day, he invoked a forbidden ritual and stumbled upon the restless spirits of the fallen kings, unknowingly setting forth an irreversible fate.\n",
        "As he ventured deeper, the Lich Lord Morghul emerged from the shadows, driven by his desire to bind all living souls to undeath. Despite the peril, Malrik pressed forward, determined to fulfill his destiny.\n",
        "The air crackled with magic as steel clashed against dark sorcery. The battle raged on, and the land trembled under their struggle. Just as defeat seemed imminent, a beacon of hope emerged—the spectral warrior, Queen Nyxara, arrived and revealed a hidden truth.\n",
        "Summoning their last reserves of strength, Malrik and Nyxara combined forces. With a final, desperate attempt, the Dirge of Souls was unleashed, striking at the heart of darkness.\n",
        "As dawn broke over the Ashen Catacombs, silence fell upon the battlefield. Malrik, forever changed, gazed upon the world he had saved. Though victories are fleeting, legends endure. The darkness was defeated, and the souls of the dead found peace at last.\n",
        "\"\"\"\n",
        "\"\"\"\n",
        "Long ago, King Aldros roamed the Ruined Empire, searching for purpose. One day, he discovered an ancient prophecy and stumbled upon a forgotten war between gods and men, unknowingly setting forth an irreversible fate.\n",
        "As he ventured deeper, the Shadowborn Legion emerged from the darkness, driven by their oath to the fallen deity, Vexaris. Despite the peril, Aldros pressed forward, determined to fulfill his destiny.\n",
        "The air crackled with magic as steel clashed against divine power. The battle raged on, and the land trembled under their struggle. Just as defeat seemed imminent, a beacon of hope emerged—the lost heir, Selene, arrived and revealed a hidden truth.\n",
        "Summoning their last reserves of strength, Aldros and Selene combined forces. With a final, desperate attempt, the Eternal Crown was unleashed, striking at the heart of darkness.\n",
        "As dawn broke over the Ruined Empire, silence fell upon the battlefield. Aldros, forever changed, gazed upon the world he had saved. Though victories are fleeting, legends endure. The darkness was defeated, and the gods turned their gaze away from the realm of mortals.\n",
        "\"\"\"\n",
        "\"\"\"\n",
        "In the cursed city of Draevan, where the sun had long been swallowed by an endless eclipse, Isolde the Revenant wandered the ruins, searching for purpose. One day, she followed a trail of blood and stumbled upon a ritual meant to awaken an eldritch god, unknowingly setting forth an irreversible fate.\n",
        "As she ventured deeper, the Hollow Priests emerged from the abyss, driven by their desire to bind all souls to the darkness. Despite the peril, Isolde pressed forward, determined to fulfill her destiny.\n",
        "The air crackled with sorcery as corrupted blades clashed against void-born monstrosities. The battle raged on, and the land trembled under their struggle. Just as defeat seemed imminent, a beacon of hope emerged—a forgotten saint, chained in obsidian, arrived and revealed a hidden truth.\n",
        "Summoning their last reserves of strength, Isolde and the Saint combined forces. With a final, desperate attempt, the Hymn of Oblivion was unleashed, striking at the heart of darkness.\n",
        "As dawn failed to rise over Draevan, silence fell upon the battlefield. Isolde, forever changed, gazed upon the world she had doomed. Though victories are fleeting, curses endure. The darkness was defeated, and she took her place as the new guardian of the abyss.\n",
        "\"\"\"\n",
        "\"\"\"\n",
        "In the lawless kingdom of Varadon, where warlords ruled and magic was feared, Ronan the Forsaken wandered from battlefield to battlefield, searching for purpose. One day, he accepted a contract to slay a beast and stumbled upon a dragon bound in chains, unknowingly setting forth an irreversible fate.\n",
        "As he ventured deeper, the Warlords of the Black Pact emerged from the shadows, driven by their desire to harness dragonblood for immortality. Despite the peril, Ronan pressed forward, determined to fulfill his destiny.\n",
        "The air burned with fire as steel clashed against scaled hide. The battle raged on, and the land trembled under their struggle. Just as defeat seemed imminent, a beacon of hope emerged—the dragon, Eldryx, broke free and revealed a hidden truth.\n",
        "Summoning their last reserves of strength, Ronan and Eldryx combined forces. With a final, desperate attempt, the Dragon’s Wrath was unleashed, striking at the heart of darkness.\n",
        "As dawn broke over Varadon, silence fell upon the battlefield. Ronan, forever changed, gazed upon the world he had saved. Though victories are fleeting, legends endure. The darkness was defeated, and the last dragon took flight once more.\n",
        "\"\"\"\n",
        "\"\"\"\n",
        "In the hallowed halls of Azareth Academy, where young mages were trained to bend reality itself, Kael Evenshade struggled to find his place. One day, he unlocked a forbidden spell and stumbled upon the lost memories of the First Magus, unknowingly setting forth an irreversible fate.\n",
        "As he ventured deeper, the Arcane Council emerged from the shadows, driven by their fear of losing control over magic itself. Despite the peril, Kael pressed forward, determined to uncover the truth.\n",
        "The air shimmered with arcane energy as spells clashed against ancient wards. The battle raged on, and the academy trembled under their struggle. Just as defeat seemed imminent, a beacon of hope emerged—the spirit of the First Magus, bound to an ancient tome, arrived and revealed a hidden truth.\n",
        "Summoning their last reserves of strength, Kael and the Magus combined forces. With a final, desperate attempt, the Spell of Unmaking was unleashed, striking at the heart of darkness.\n",
        "As dawn broke over Azareth Academy, silence fell upon the battlefield. Kael, forever changed, gazed upon the world he had saved. Though victories are fleeting, knowledge endures. The darkness was defeated, and a new age of magic began.\n",
        "\"\"\"\n",
        "\"\"\"\n",
        "In the twilight of the gods, when the heavens waged war against the void, Nyx the Stormborn wandered the sacred lands, searching for purpose. One day, she touched the remnants of a fallen star and stumbled upon a prophecy that foretold the death of all deities, unknowingly setting forth an irreversible fate.\n",
        "As she ventured deeper, the Celestial Heralds emerged from the sky, driven by their fear of the prophecy’s fulfillment. Despite the peril, Nyx pressed forward, determined to uncover the truth.\n",
        "The air thundered with celestial wrath as divine weapons clashed against mortal defiance. The battle raged on, and the heavens trembled under their struggle. Just as defeat seemed imminent, a beacon of hope emerged—the forgotten Titan, Oros, arrived and revealed a hidden truth.\n",
        "Summoning their last reserves of strength, Nyx and Oros combined forces. With a final, desperate attempt, the Titan’s Reckoning was unleashed, striking at the heart of darkness.\n",
        "As dawn broke over the shattered heavens, silence fell upon the battlefield. Nyx, forever changed, gazed upon the world she had remade. Though victories are fleeting, myths endure. The darkness was defeated, and the gods fell silent, leaving mortals to forge their own fate.\n",
        "\"\"\"\n",
        "\"\"\"\n",
        "Long ago, Valeria the Accursed roamed the Ruined Highlands, searching for purpose. One day, she unsealed an ancient tomb and stumbled upon a dormant blood curse, unknowingly setting forth an irreversible fate.\n",
        "As she ventured deeper, the Crimson Wraiths emerged from the shadows, driven by their eternal hunger for the blood of the cursed. Despite the peril, Valeria pressed forward, determined to fulfill her destiny.\n",
        "The air crackled with necrotic energy as steel clashed against ethereal blades. The battle raged on, and the land trembled under their struggle. Just as defeat seemed imminent, a beacon of hope emerged—an exiled priest, bearing a relic of purification, arrived and revealed a hidden truth.\n",
        "Summoning their last reserves of strength, Valeria and the Priest combined forces. With a final, desperate attempt, the Rite of Redemption was unleashed, striking at the heart of darkness.\n",
        "As dawn broke over the Ruined Highlands, silence fell upon the battlefield. Valeria, forever changed, gazed upon the world she had saved. Though victories are fleeting, legends endure. The darkness was defeated, and the curse within her soul whispered of the battles yet to come.\n",
        "\"\"\"\n",
        "\"\"\"\n",
        "Long ago, Kael the Bonecaller roamed the Ashen Catacombs, searching for purpose. One day, he read a forbidden incantation and stumbled upon the restless souls of the damned, unknowingly setting forth an irreversible fate.\n",
        "As he ventured deeper, the Lich King’s disciples emerged from the shadows, driven by their desire to consume all life. Despite the peril, Kael pressed forward, determined to fulfill his destiny.\n",
        "The air shimmered with spectral energy as bone and shadow clashed. The battle raged on, and the underworld trembled under their struggle. Just as defeat seemed imminent, a beacon of hope emerged—the ghost of a forgotten hero, bound in chains, arrived and revealed a hidden truth.\n",
        "Summoning their last reserves of strength, Kael and the Ghost combined forces. With a final, desperate attempt, the Song of Unbinding was unleashed, striking at the heart of darkness.\n",
        "As dawn broke over the Ashen Catacombs, silence fell upon the battlefield. Kael, forever changed, gazed upon the world he had saved. Though victories are fleeting, spirits endure. The darkness was defeated, and the dead whispered his name in reverence and fear.\n",
        "\"\"\"\n",
        "# 建立 Markov Chain\n",
        "markov_chain = build_markov_chain(sample_text, order=3)\n",
        "\n",
        "\n",
        "def generate_story():\n",
        "    character = random.choice(story_grammar['CHARACTER'])  # 固定角色\n",
        "    enemy = random.choice(story_grammar['ENEMY'])  # 固定敵人\n",
        "    ally = random.choice(story_grammar['ALLY'])  # 固定盟友\n",
        "\n",
        "\n",
        "    story_template = ' '.join(story_grammar['STORY'][0])\n",
        "\n",
        "    return story_template.format(\n",
        "        CHARACTER=character,\n",
        "        PLACE=generate_markov_text(markov_chain, num_words=4),\n",
        "        ACTION=generate_markov_text(markov_chain, num_words=2),\n",
        "        ENEMY=enemy,\n",
        "        MOTIVATION=generate_markov_text(markov_chain, num_words=5),\n",
        "        PROBLEM=generate_markov_text(markov_chain, num_words=4),\n",
        "        ALLY=ally,\n",
        "        ABILITY=generate_markov_text(markov_chain, num_words=4),\n",
        "        OUTCOME=generate_markov_text(markov_chain, num_words=5)  # 由 Markov Chain 生成\n",
        "    )"
      ],
      "metadata": {
        "id": "Yr-VVjQohOBc"
      },
      "execution_count": 138,
      "outputs": []
    },
    {
      "cell_type": "code",
      "source": [
        "story = generate_story()\n",
        "print(f\"Word Count: {len(story.split())}\")\n",
        "print(story)"
      ],
      "metadata": {
        "colab": {
          "base_uri": "https://localhost:8080/"
        },
        "id": "45TnIU9y0kJy",
        "outputId": "187a45d2-2b9e-4f33-ebbd-20f720206a79"
      },
      "execution_count": 145,
      "outputs": [
        {
          "output_type": "stream",
          "name": "stdout",
          "text": [
            "Word Count: 180\n",
            "Long ago, an elf archer roamed roamed the Forgotten Kingdom,, searching for purpose. As he ventured and stumbled upon searching for purpose. One, unknowingly setting forth an irreversible fate. As they ventured deeper, a dark sorcerer emerged from the shadows, driven by endure. The darkness was defeated,. Despite the peril, an elf archer pressed forward, determined to fulfill their destiny. The air crackled with magic as steel clashed against dark sorcery. The battle raged on, and the land trembled under their struggle. Just as defeat seemed imminent, a beacon of hope emerged—a celestial spirit arrived and revealed a hidden truth. Summoning their last reserves of strength, an elf archer and a celestial spirit combined forces. With a final, desperate attempt, with magic as steel was unleashed, striking at the heart of darkness. As dawn broke over roamed the Forgotten Kingdom,, silence fell upon the battlefield. an elf archer, forever changed, gazed upon the world they had saved. Though victories are fleeting, legends endure. The darkness was defeated, and history would remember this moment as the dawn of a new era.\n"
          ]
        }
      ]
    },
    {
      "cell_type": "code",
      "source": [
        "def generate_multiple_stories(count=5):\n",
        "    stories = []\n",
        "    for i in range(count):\n",
        "        story = generate_story()\n",
        "        word_count = len(story.split())\n",
        "\n",
        "        # Ensure each story has at least 100 words\n",
        "        while word_count < 100:\n",
        "            additional_text = generate_markov_text(markov_chain, num_words=(100 - word_count))\n",
        "            story += \" \" + additional_text\n",
        "            word_count = len(story.split())\n",
        "\n",
        "        stories.append(f\"Story {i+1}:\\n{story}\\n\")\n",
        "\n",
        "    return \"\\n\\n\".join(stories)\n",
        "\n",
        "# 生成五個故事並輸出\n",
        "print(generate_multiple_stories(5))\n"
      ],
      "metadata": {
        "colab": {
          "base_uri": "https://localhost:8080/"
        },
        "id": "QgbkeIkd2t73",
        "outputId": "5f2bf7e6-99d3-4be2-8744-b8c6bda08f6e"
      },
      "execution_count": 142,
      "outputs": [
        {
          "output_type": "stream",
          "name": "stdout",
          "text": [
            "Story 1:\n",
            "Long ago, The Lost Wizard roamed world he had saved., searching for purpose. They With a final, and stumbled upon of Revenants was unleashed,, unknowingly setting forth an irreversible fate. As they ventured deeper, an ancient demon emerged from the shadows, driven by are fleeting, legends endure. The. Despite the peril, The Lost Wizard pressed forward, determined to fulfill their destiny. The air crackled with magic as steel clashed against dark sorcery. The battle raged on, and the land trembled under their struggle. Just as defeat seemed imminent, a beacon of hope emerged—a cunning rogue arrived and revealed a hidden truth. Summoning their last reserves of strength, The Lost Wizard and a cunning rogue combined forces. With a final, desperate attempt, their last reserves of was unleashed, striking at the heart of darkness. As dawn broke over world he had saved., silence fell upon the battlefield. The Lost Wizard, forever changed, gazed upon the world they had saved. Though victories are fleeting, legends endure. The darkness was defeated, and history would remember this moment as the dawn of a new era.\n",
            "\n",
            "\n",
            "Story 2:\n",
            "Long ago, a wandering knight roamed imminent, a beacon of, searching for purpose. They the peril, Alden and stumbled upon on, and the land, unknowingly setting forth an irreversible fate. As they ventured deeper, a wicked warlord emerged from the shadows, driven by forces. With a final, desperate. Despite the peril, a wandering knight pressed forward, determined to fulfill their destiny. The air crackled with magic as steel clashed against dark sorcery. The battle raged on, and the land trembled under their struggle. Just as defeat seemed imminent, a beacon of hope emerged—a talking owl arrived and revealed a hidden truth. Summoning their last reserves of strength, a wandering knight and a talking owl combined forces. With a final, desperate attempt, Alden pressed forward, determined was unleashed, striking at the heart of darkness. As dawn broke over imminent, a beacon of, silence fell upon the battlefield. a wandering knight, forever changed, gazed upon the world they had saved. Though victories are fleeting, legends endure. The darkness was defeated, and history would remember this moment as the dawn of a new era.\n",
            "\n",
            "\n",
            "Story 3:\n",
            "Long ago, The Lost Wizard roamed seemed imminent, a beacon, searching for purpose. They broke over the and stumbled upon reserves of strength, Alden, unknowingly setting forth an irreversible fate. As they ventured deeper, an ancient demon emerged from the shadows, driven by heart of darkness. As dawn. Despite the peril, The Lost Wizard pressed forward, determined to fulfill their destiny. The air crackled with magic as steel clashed against dark sorcery. The battle raged on, and the land trembled under their struggle. Just as defeat seemed imminent, a beacon of hope emerged—a wise old mage arrived and revealed a hidden truth. Summoning their last reserves of strength, The Lost Wizard and a wise old mage combined forces. With a final, desperate attempt, emerged from the shadows, was unleashed, striking at the heart of darkness. As dawn broke over seemed imminent, a beacon, silence fell upon the battlefield. The Lost Wizard, forever changed, gazed upon the world they had saved. Though victories are fleeting, legends endure. The darkness was defeated, and history would remember this moment as the dawn of a new era.\n",
            "\n",
            "\n",
            "Story 4:\n",
            "Long ago, a wandering knight roamed curse, unknowingly setting forth, searching for purpose. They deeper, the Wraith and stumbled upon One day, he uncovered, unknowingly setting forth an irreversible fate. As they ventured deeper, a dark sorcerer emerged from the shadows, driven by magic as steel clashed against. Despite the peril, a wandering knight pressed forward, determined to fulfill their destiny. The air crackled with magic as steel clashed against dark sorcery. The battle raged on, and the land trembled under their struggle. Just as defeat seemed imminent, a beacon of hope emerged—a cunning rogue arrived and revealed a hidden truth. Summoning their last reserves of strength, a wandering knight and a cunning rogue combined forces. With a final, desperate attempt, ancient tomb and stumbled was unleashed, striking at the heart of darkness. As dawn broke over curse, unknowingly setting forth, silence fell upon the battlefield. a wandering knight, forever changed, gazed upon the world they had saved. Though victories are fleeting, legends endure. The darkness was defeated, and history would remember this moment as the dawn of a new era.\n",
            "\n",
            "\n",
            "Story 5:\n",
            "Long ago, an elf archer roamed arrived and revealed a, searching for purpose. They ventured deeper, the and stumbled upon curse, unknowingly setting forth, unknowingly setting forth an irreversible fate. As they ventured deeper, a dark sorcerer emerged from the shadows, driven by was defeated, and the kingdom,. Despite the peril, an elf archer pressed forward, determined to fulfill their destiny. The air crackled with magic as steel clashed against dark sorcery. The battle raged on, and the land trembled under their struggle. Just as defeat seemed imminent, a beacon of hope emerged—a celestial spirit arrived and revealed a hidden truth. Summoning their last reserves of strength, an elf archer and a celestial spirit combined forces. With a final, desperate attempt, struggle. Just as defeat was unleashed, striking at the heart of darkness. As dawn broke over arrived and revealed a, silence fell upon the battlefield. an elf archer, forever changed, gazed upon the world they had saved. Though victories are fleeting, legends endure. The darkness was defeated, and history would remember this moment as the dawn of a new era.\n",
            "\n"
          ]
        }
      ]
    }
  ]
}