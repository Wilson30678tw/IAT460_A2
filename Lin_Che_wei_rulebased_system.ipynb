{
  "nbformat": 4,
  "nbformat_minor": 0,
  "metadata": {
    "colab": {
      "provenance": [],
      "authorship_tag": "ABX9TyMGWBxhypj+2d0PHrHmVyaG",
      "include_colab_link": true
    },
    "kernelspec": {
      "name": "python3",
      "display_name": "Python 3"
    },
    "language_info": {
      "name": "python"
    }
  },
  "cells": [
    {
      "cell_type": "markdown",
      "metadata": {
        "id": "view-in-github",
        "colab_type": "text"
      },
      "source": [
        "<a href=\"https://colab.research.google.com/github/Wilson30678tw/IAT460_A2/blob/main/Lin_Che_wei_rulebased_system.ipynb\" target=\"_parent\"><img src=\"https://colab.research.google.com/assets/colab-badge.svg\" alt=\"Open In Colab\"/></a>"
      ]
    },
    {
      "cell_type": "code",
      "execution_count": 16,
      "metadata": {
        "id": "q9Z9D9fCf0ih"
      },
      "outputs": [],
      "source": [
        "# First, let's import our required libraries\n",
        "from collections import defaultdict\n",
        "import random"
      ]
    },
    {
      "cell_type": "code",
      "source": [
        "# 定義故事語法\n",
        "story_grammar = {\n",
        "'STORY': [[\n",
        "    \"Long ago, {CHARACTER} roamed {PLACE}, searching for purpose. One day, they {ACTION} and stumbled upon {PROBLEM}, unknowingly setting forth an irreversible fate.\",\n",
        "    \"As they ventured deeper, {ENEMY} emerged from the shadows, driven by {MOTIVATION}. Despite the peril, {CHARACTER} pressed forward, determined to fulfill their destiny.\",\n",
        "    \"The air crackled with magic as steel clashed against dark sorcery. The battle raged on, and the land trembled under their struggle. Just as defeat seemed imminent, a beacon of hope emerged—{ALLY} arrived and revealed a hidden truth.\",\n",
        "    \"Summoning their last reserves of strength, {CHARACTER} and {ALLY} combined forces. With a final, desperate attempt, {ABILITY} was unleashed, striking at the heart of darkness.\",\n",
        "    \"As dawn broke over {PLACE}, silence fell upon the battlefield. {CHARACTER}, forever changed, gazed upon the world they had saved. Though victories are fleeting, legends endure. The darkness was defeated, and {OUTCOME}.\"\n",
        "]],\n",
        "\n",
        "\n",
        "    # Characters & Places\n",
        "    'CHARACTER': ['a wandering knight', 'The Lost Wizard', 'an elf archer', 'a group of rogue thief'],\n",
        "    'PLACE': ['in the ancient ruins', 'within the cursed forest', 'beyond the forgotten kingdom', 'under the dragon’s lair'],\n",
        "\n",
        "    # Actions & Problems\n",
        "    'ACTION': ['discovered', 'was searching for', 'was ambushed in', 'encountered'],\n",
        "    'PROBLEM': ['a sealed portal', 'a forbidden spellbook', 'a hidden artifact', 'A prophecy of doom and gloom'],\n",
        "\n",
        "    # Enemy & Motivation\n",
        "    'ENEMY': ['a dark sorcerer', 'a wicked warlord', 'a cursed dragon', 'an ancient demon'],\n",
        "    'MOTIVATION': ['seeks to conquer the kingdom', 'plans to steal the artifact', 'desires to break an ancient curse', 'aims to overthrow the gods'],\n",
        "\n",
        "    # Ally, Ability & Outcome\n",
        "    'ALLY': ['a wise old mage', 'a cunning rogue', 'a celestial spirit', 'a talking owl'],\n",
        "    'ABILITY': ['used a powerful spell', 'unleashed elemental magic', 'discovered a hidden passage', 'activated an ancient relic'],\n",
        "    'OUTCOME': ['and banished the darkness', 'and sealed the enemy away forever', 'and restored balance to the world', 'and reclaimed the lost treasure']\n",
        "}\n",
        "\n",
        "# CFG 生成函數\n",
        "def generate_text(symbol, grammar):\n",
        "    if isinstance(symbol, str) and symbol in grammar:\n",
        "        production = random.choice(grammar[symbol])\n",
        "        if isinstance(production, list):\n",
        "            return ' '.join(generate_text(sym, grammar) for sym in production)\n",
        "        return production\n",
        "    return symbol\n",
        "\n",
        "def generate_story():\n",
        "     return ' '.join(generate_text('STORY', story_grammar))\n",
        "\n"
      ],
      "metadata": {
        "id": "s7kmi2bugGOI"
      },
      "execution_count": 35,
      "outputs": []
    },
    {
      "cell_type": "markdown",
      "source": [
        "Markov Model in here"
      ],
      "metadata": {
        "id": "VJyC5a51gPSd"
      }
    },
    {
      "cell_type": "code",
      "source": [
        "def build_markov_chain(text, order=4):\n",
        "    chain = defaultdict(list)\n",
        "    words = text.split()\n",
        "\n",
        "    for i in range(len(words) - order):\n",
        "        state = tuple(words[i:i+order])\n",
        "        next_word = words[i+order]\n",
        "        chain[state].append(next_word)\n",
        "\n",
        "    return chain\n",
        "\n",
        "def generate_markov_text(chain, num_words=3):\n",
        "    if not chain:\n",
        "        return \"\"\n",
        "    words = list(random.choice(list(chain.keys())))\n",
        "    order = len(list(chain.keys())[0])\n",
        "\n",
        "    for _ in range(num_words - order):\n",
        "        state = tuple(words[-order:])\n",
        "        if state in chain and chain[state]:\n",
        "            next_word = random.choice(chain[state])\n",
        "            words.append(next_word)\n",
        "        else:\n",
        "            break\n",
        "\n",
        "    return ' '.join(words)\n",
        "\n"
      ],
      "metadata": {
        "id": "KZOHMOtTgPAq"
      },
      "execution_count": 36,
      "outputs": []
    },
    {
      "cell_type": "code",
      "source": [
        "sample_text = \"\"\"\n",
        "In the heart of an ancient kingdom, a lost prince was drawn to a celestial tower that touches the clouds. Legends spoke of the tower as a place where the past and future converged, where whispers of fate guided those who sought answers. As he ascended the marble steps, a strange glow pulsed from the runes carved into the walls.\n",
        "\n",
        "However, something was not right. The air crackled with magic, and shadows shifted unnaturally. He felt a presence, unseen but undeniably watching.\n",
        "\n",
        "Determined to uncover the truth, the prince encountered a hidden trial of the ancients. The great stone doors behind him slammed shut, sealing his path backward. Before him, the chamber twisted, revealing an ever-shifting labyrinth. Voices echoed in forgotten tongues, warning him of the trials ahead.\n",
        "\"\"\"\n",
        "\"\"\"Long ago, Sir Alden roamed the Forgotten Kingdom, searching for purpose. One day, he uncovered an ancient tomb and stumbled upon a slumbering curse, unknowingly setting forth an irreversible fate.\n",
        "As he ventured deeper, the Wraith King emerged from the shadows, driven by his hunger for a lost soul. Despite the peril, Alden pressed forward, determined to fulfill his destiny.\n",
        "The air crackled with magic as steel clashed against dark sorcery. The battle raged on, and the land trembled under their struggle. Just as defeat seemed imminent, a beacon of hope emerged—the ghost of Queen Lysara arrived and revealed a hidden truth.\n",
        "Summoning their last reserves of strength, Alden and Lysara combined forces. With a final, desperate attempt, the Blade of Revenants was unleashed, striking at the heart of darkness.\n",
        "As dawn broke over the Forgotten Kingdom, silence fell upon the battlefield. Alden, forever changed, gazed upon the world he had saved. Though victories are fleeting, legends endure. The darkness was defeated, and the kingdom, once cursed, began to bloom once more.\n",
        "\"\"\"\n",
        "\"\"\"Long ago, Vaelin the Starborn roamed the Astral Wastes, searching for purpose. One day, he followed the whispers of a dying star and stumbled upon a collapsing rift in space, unknowingly setting forth an irreversible fate.\n",
        "As he ventured deeper, the Celestial Devourer emerged from the shadows, driven by its eternal hunger to consume the fabric of reality. Despite the peril, Vaelin pressed forward, determined to fulfill his destiny.\n",
        "The air crackled with magic as steel clashed against dark sorcery. The battle raged on, and the land trembled under their struggle. Just as defeat seemed imminent, a beacon of hope emerged—the lost deity, Seraphis, arrived and revealed a hidden truth.\n",
        "Summoning their last reserves of strength, Vaelin and Seraphis combined forces. With a final, desperate attempt, the Sigil of Eternity was unleashed, striking at the heart of darkness.\n",
        "As dawn broke over the Astral Wastes, silence fell upon the battlefield. Vaelin, forever changed, gazed upon the world he had saved. Though victories are fleeting, legends endure. The darkness was defeated, and the rift sealed, ensuring the universe would live another age.\n",
        "\n",
        "\"\"\"\n",
        "# 建立 Markov Chain\n",
        "markov_chain = build_markov_chain(sample_text, order=3)\n",
        "\n",
        "def get_fallback(value, category):\n",
        "    \"\"\"Ensure a valid replacement, prefer Markov output if available.\"\"\"\n",
        "    generated_text = value.strip()\n",
        "\n",
        "    # Ensure meaningful Markov text (allow more variation)\n",
        "    if not generated_text or len(generated_text.split()) < 2:\n",
        "        return generate_text(category, story_grammar)\n",
        "\n",
        "    return generated_text\n",
        "\n",
        "def generate_story():\n",
        "    story_template = ' '.join(story_grammar['STORY'][0])\n",
        "\n",
        "    return story_template.format(\n",
        "        CHARACTER=random.choice(story_grammar['CHARACTER']) + \" \" + generate_markov_text(markov_chain, num_words=2),\n",
        "        PLACE=generate_markov_text(markov_chain, num_words=4) or random.choice(story_grammar['PLACE']),\n",
        "        ACTION=generate_markov_text(markov_chain, num_words=2) or random.choice(story_grammar['ACTION']),\n",
        "        ENEMY=random.choice(story_grammar['ENEMY']) + \" \" + generate_markov_text(markov_chain, num_words=2),\n",
        "        MOTIVATION=generate_markov_text(markov_chain, num_words=5) or random.choice(story_grammar['MOTIVATION']),\n",
        "        PROBLEM=generate_markov_text(markov_chain, num_words=4) or random.choice(story_grammar['PROBLEM']),\n",
        "        ALLY=random.choice(story_grammar['ALLY']) + \" \" + generate_markov_text(markov_chain, num_words=2),\n",
        "        ABILITY=generate_markov_text(markov_chain, num_words=4) or random.choice(story_grammar['ABILITY']),\n",
        "        OUTCOME=generate_markov_text(markov_chain, num_words=5) or random.choice(story_grammar['OUTCOME'])\n",
        "    )\n"
      ],
      "metadata": {
        "id": "Yr-VVjQohOBc"
      },
      "execution_count": 37,
      "outputs": []
    },
    {
      "cell_type": "code",
      "source": [
        "print(generate_story())"
      ],
      "metadata": {
        "colab": {
          "base_uri": "https://localhost:8080/"
        },
        "id": "lJbb_2dihZdh",
        "outputId": "3a28adcf-bb2b-4a21-babf-73d567b6e38e"
      },
      "execution_count": 34,
      "outputs": [
        {
          "output_type": "stream",
          "name": "stdout",
          "text": [
            "Long ago, a rogue thief runes carved into roamed a presence, unseen but, searching for purpose. One day, they place where the and stumbled upon glow pulsed from the, unknowingly setting forth an irreversible fate. As they ventured deeper, a wicked warlord ancient kingdom, a emerged from the shadows, driven by felt a presence, unseen but. Despite the peril, a rogue thief runes carved into pressed forward, determined to fulfill their destiny. The air crackled with magic as steel clashed against dark sorcery. The battle raged on, and the land trembled under their struggle. Just as defeat seemed imminent, a beacon of hope emerged—a celestial spirit Legends spoke of arrived and revealed a hidden truth. Summoning their last reserves of strength, a rogue thief runes carved into and a celestial spirit Legends spoke of combined forces. With a final, desperate attempt, steps, a strange glow was unleashed, striking at the heart of darkness. As dawn broke over a presence, unseen but, silence fell upon the battlefield. a rogue thief runes carved into, forever changed, gazed upon the world they had saved. Though victories are fleeting, legends endure. The darkness was defeated, and runes carved into the walls..\n"
          ]
        }
      ]
    },
    {
      "cell_type": "code",
      "source": [
        "story = generate_story()\n",
        "print(f\"Word Count: {len(story.split())}\")\n",
        "print(story)"
      ],
      "metadata": {
        "colab": {
          "base_uri": "https://localhost:8080/"
        },
        "id": "45TnIU9y0kJy",
        "outputId": "77078de6-9228-4f67-a4c8-b63e54c5a217"
      },
      "execution_count": 38,
      "outputs": [
        {
          "output_type": "stream",
          "name": "stdout",
          "text": [
            "Word Count: 207\n",
            "Long ago, a group of rogue thief path backward. Before roamed Legends spoke of the, searching for purpose. One day, they The air crackled and stumbled upon magic, and shadows shifted, unknowingly setting forth an irreversible fate. As they ventured deeper, a cursed dragon him slammed shut, emerged from the shadows, driven by the prince encountered a hidden. Despite the peril, a group of rogue thief path backward. Before pressed forward, determined to fulfill their destiny. The air crackled with magic as steel clashed against dark sorcery. The battle raged on, and the land trembled under their struggle. Just as defeat seemed imminent, a beacon of hope emerged—a wise old mage encountered a hidden arrived and revealed a hidden truth. Summoning their last reserves of strength, a group of rogue thief path backward. Before and a wise old mage encountered a hidden combined forces. With a final, desperate attempt, of the trials ahead. was unleashed, striking at the heart of darkness. As dawn broke over Legends spoke of the, silence fell upon the battlefield. a group of rogue thief path backward. Before, forever changed, gazed upon the world they had saved. Though victories are fleeting, legends endure. The darkness was defeated, and sought answers. As he ascended.\n"
          ]
        }
      ]
    }
  ]
}