{
  "nbformat": 4,
  "nbformat_minor": 0,
  "metadata": {
    "colab": {
      "provenance": [],
      "gpuType": "T4",
      "authorship_tag": "ABX9TyPyHbcVjZX3INP0RSf1SFEw",
      "include_colab_link": true
    },
    "kernelspec": {
      "name": "python3",
      "display_name": "Python 3"
    },
    "language_info": {
      "name": "python"
    },
    "accelerator": "GPU"
  },
  "cells": [
    {
      "cell_type": "markdown",
      "metadata": {
        "id": "view-in-github",
        "colab_type": "text"
      },
      "source": [
        "<a href=\"https://colab.research.google.com/github/Wilson30678tw/IAT460_A2/blob/main/Lin_Che_wei_rulebased_system.ipynb\" target=\"_parent\"><img src=\"https://colab.research.google.com/assets/colab-badge.svg\" alt=\"Open In Colab\"/></a>"
      ]
    },
    {
      "cell_type": "code",
      "execution_count": 37,
      "metadata": {
        "id": "q9Z9D9fCf0ih"
      },
      "outputs": [],
      "source": [
        "# First, let's import our required libraries\n",
        "from collections import defaultdict\n",
        "import random"
      ]
    },
    {
      "cell_type": "code",
      "source": [
        "# 定義故事語法\n",
        "story_grammar = {\n",
        "    'STORY': [['INTRO', 'CONFLICT', 'RESOLUTION']],  # Full story structure\n",
        "    'INTRO': [['CHARACTER', 'ACTION', 'PLACE']],  # Introduction\n",
        "    'CONFLICT': [['ENEMY', 'MOTIVATION', 'PROBLEM']],  # Conflict structure\n",
        "    'RESOLUTION': [['ALLY', 'ABILITY', 'OUTCOME']],  # Resolution\n",
        "\n",
        "    # Characters & Places\n",
        "    'CHARACTER': ['a wandering knight', 'a lost sorcerer', 'an elf archer', 'a rogue thief'],\n",
        "    'PLACE': ['in the ancient ruins', 'within the cursed forest', 'beyond the forgotten kingdom', 'under the dragon’s lair'],\n",
        "\n",
        "    # Actions & Problems\n",
        "    'ACTION': ['discovered', 'was searching for', 'was ambushed in', 'encountered'],\n",
        "    'PROBLEM': ['a sealed portal', 'a forbidden spellbook', 'a hidden artifact', 'a prophecy that foretells doom'],\n",
        "\n",
        "    # Enemy & Motivation\n",
        "    'ENEMY': ['a dark sorcerer', 'a wicked warlord', 'a cursed dragon', 'an ancient demon'],\n",
        "    'MOTIVATION': ['seeks to conquer the kingdom', 'plans to steal the artifact', 'desires to break an ancient curse', 'aims to overthrow the gods'],\n",
        "\n",
        "    # Ally, Ability & Outcome\n",
        "    'ALLY': ['a wise old mage', 'a cunning rogue', 'a celestial spirit', 'a talking owl'],\n",
        "    'ABILITY': ['used a powerful spell', 'unleashed elemental magic', 'discovered a hidden passage', 'activated an ancient relic'],\n",
        "    'OUTCOME': ['and banished the darkness', 'and sealed the enemy away forever', 'and restored balance to the world', 'and reclaimed the lost treasure']\n",
        "}\n",
        "\n",
        "# # CFG 生成函數\n",
        "# def generate_text(symbol, grammar):\n",
        "#     if isinstance(symbol, str) and symbol in grammar:\n",
        "#         production = random.choice(grammar[symbol])\n",
        "#         if isinstance(production, list):\n",
        "#             return ' '.join(generate_text(sym, grammar) for sym in production)\n",
        "#         return production\n",
        "#     return symbol\n",
        "\n",
        "# def generate_story():\n",
        "#     return generate_text('STORY', story_grammar)\n",
        "\n"
      ],
      "metadata": {
        "id": "s7kmi2bugGOI"
      },
      "execution_count": 42,
      "outputs": []
    },
    {
      "cell_type": "markdown",
      "source": [
        "Markov Model in here"
      ],
      "metadata": {
        "id": "VJyC5a51gPSd"
      }
    },
    {
      "cell_type": "code",
      "source": [
        "def build_markov_chain(text, order=2):\n",
        "\n",
        "    chain = defaultdict(list)\n",
        "    words = text.split()\n",
        "\n",
        "    for i in range(len(words) - order):\n",
        "        # Create state tuple from current words\n",
        "        state = tuple(words[i:i+order])\n",
        "        # Get the next word\n",
        "        next_word = words[i+order]\n",
        "        # Add to chain\n",
        "        chain[state].append(next_word)\n",
        "\n",
        "    return chain\n",
        "\n",
        "def generate_markov_text(chain, num_words=80):\n",
        "    \"\"\"\n",
        "    使用 Markov Chain 生成故事擴展敘述\n",
        "    \"\"\"\n",
        "    words = list(random.choice(list(chain.keys())))\n",
        "    order = len(list(chain.keys())[0])\n",
        "\n",
        "    for _ in range(num_words - order):\n",
        "        state = tuple(words[-order:])\n",
        "        if state in chain:\n",
        "            next_word = random.choice(chain[state])\n",
        "            words.append(next_word)\n",
        "        else:\n",
        "            break\n",
        "\n",
        "    return ' '.join(words)\n"
      ],
      "metadata": {
        "id": "KZOHMOtTgPAq"
      },
      "execution_count": 43,
      "outputs": []
    },
    {
      "cell_type": "code",
      "source": [
        "sample_text = \"\"\"\n",
        "In an ancient kingdom, a wandering knight set forth on a perilous journey to uncover a forgotten prophecy.\n",
        "The knight traveled through shadowed valleys and across mist-covered mountains, searching for the lost relic.\n",
        "Legends spoke of an enchanted portal hidden deep within the cursed forest, a gateway said to hold unimaginable power.\n",
        "Many had sought the portal, yet none had returned to tell its secrets.\n",
        "One fateful night, the knight discovered an ancient tablet inscribed with cryptic runes, revealing the portal’s location.\n",
        "Following the markings, the knight ventured into the depths of the ruins, where a chilling presence loomed in the darkness.\n",
        "A menacing growl echoed through the halls, and the air grew heavy with magic.\n",
        "The knight's hand tightened around their blade as a dark figure emerged from the shadows.\n",
        "Before them stood a sorcerer, cloaked in midnight, seeking to claim the relic for his own.\n",
        "With the fate of the kingdom hanging in the balance, the knight prepared to face their greatest challenge.\n",
        "\"\"\"\n",
        "\n",
        "# 建立 Markov Chain\n",
        "markov_chain = build_markov_chain(sample_text, order=3)\n",
        "\n",
        "def generate_full_story():\n",
        "\n",
        "    structured_story = generate_story()  # 產生基本故事架構\n",
        "    dynamic_text = generate_markov_text(markov_chain, num_words=80)  # 產生隨機敘述\n",
        "\n",
        "    # **確保總字數至少 100**\n",
        "    full_story = f\"{structured_story}\\n\\n{dynamic_text}\"\n",
        "    word_count = len(full_story.split())\n",
        "\n",
        "    while word_count < 100:\n",
        "        extra_text = generate_markov_text(markov_chain, num_words=20)\n",
        "        full_story += f\" {extra_text}\"\n",
        "        word_count = len(full_story.split())\n",
        "\n",
        "    return full_story"
      ],
      "metadata": {
        "id": "Yr-VVjQohOBc"
      },
      "execution_count": 44,
      "outputs": []
    },
    {
      "cell_type": "code",
      "source": [
        "print(generate_full_story())"
      ],
      "metadata": {
        "colab": {
          "base_uri": "https://localhost:8080/"
        },
        "id": "lJbb_2dihZdh",
        "outputId": "11072829-2097-43d2-9882-037f7cb95ed3"
      },
      "execution_count": 45,
      "outputs": [
        {
          "output_type": "stream",
          "name": "stdout",
          "text": [
            "a rogue thief encountered beyond the forgotten kingdom a wicked warlord desires to break an ancient curse a hidden artifact a talking owl discovered a hidden passage and banished the darkness\n",
            "\n",
            "knight prepared to face their greatest challenge. with magic. The knight's hand tightened around their blade as a dark figure emerged from the shadows. Before them stood for the lost relic. Legends spoke of an enchanted portal hidden deep within the cursed forest, a gateway said to The knight traveled through shadowed valleys and across mist-covered mountains, searching for the lost relic. Legends spoke of an enchanted inscribed with cryptic runes, revealing the portal’s location. Following the markings, the knight ventured into the depths of the ruins,\n"
          ]
        }
      ]
    }
  ]
}